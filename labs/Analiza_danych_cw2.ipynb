{
 "cells": [
  {
   "cell_type": "markdown",
   "metadata": {},
   "source": [
    "# Analiza danych – ćwiczenia 2.\n",
    "### Data preprocessing\n"
   ]
  },
  {
   "cell_type": "markdown",
   "metadata": {},
   "source": [
    "##### Autor: mgr inż. Bartosz Czech"
   ]
  },
  {
   "cell_type": "markdown",
   "metadata": {},
   "source": [
    "---"
   ]
  },
  {
   "cell_type": "markdown",
   "metadata": {},
   "source": [
    "#### Cel normalizacji\n",
    "W celu poprawnego zbudowania modelu sztucznej sieci neuronowej dane wymagają wstępnego przetworzenia. Brak normalizacji zmiennej może być przyczyną spowolnienia i niestabilności procesu uczenia modelu, a także mogą decydować o większym wpływie zmiennej nieznormalizowanej na budowany model. Normalizacja polega na skalowaniu pierwotnych danych do danego, innego przedziału. Najczęściej wykorzystywanymi metodami transformacji danych jest metoda min-max lub standaryzacja $\\sim \\mathcal{N}(0,\\,1$) (nazywana również metodą z-score). Powyższa normalizacja jest stosowana dla zmiennych ilościowych.\n",
    "\n",
    "W przypadku zmiennych o charakterze jakościowym konieczne jest sprowadzenie wartości do postaci numerycznej, czyli dogodnej do przetworzenia przez sieć neuronową (np. przy zastosowaniu metody jeden-z-N, w której każdej wartości zmiennej przyporządkowuje się wektor wartości binarnych). W tym celu może być przydatna funkcja [pandas.get_dummies](https://pandas.pydata.org/pandas-docs/stable/reference/api/pandas.get_dummies.html)."
   ]
  },
  {
   "cell_type": "markdown",
   "metadata": {},
   "source": [
    "---"
   ]
  },
  {
   "cell_type": "markdown",
   "metadata": {},
   "source": [
    "1. Sprawdź kompletność danych. W przypadku rekordów z brakującą zmienną zdecyduj o ich usunięciu lub dokonaj imputacji brakującej zmiennej (średnia, dominanta, mediana, interpolacja).\n",
    "2. Dokonaj normalizacji zmiennych."
   ]
  },
  {
   "cell_type": "code",
   "execution_count": 2,
   "metadata": {},
   "outputs": [],
   "source": [
    "import tensorflow as tf\n",
    "import keras\n",
    "import numpy as np\n",
    "import scipy as sp\n",
    "import matplotlib.pyplot as plt\n",
    "import matplotlib as mpl\n",
    "%matplotlib inline\n",
    "import pandas as pd"
   ]
  },
  {
   "cell_type": "code",
   "execution_count": 3,
   "metadata": {},
   "outputs": [],
   "source": [
    "data = pd.read_csv(\"../data/logreg.txt\", sep = \";\")"
   ]
  }
 ],
 "metadata": {
  "kernelspec": {
   "display_name": "Python 3",
   "language": "python",
   "name": "python3"
  },
  "language_info": {
   "codemirror_mode": {
    "name": "ipython",
    "version": 3
   },
   "file_extension": ".py",
   "mimetype": "text/x-python",
   "name": "python",
   "nbconvert_exporter": "python",
   "pygments_lexer": "ipython3",
   "version": "3.7.3"
  }
 },
 "nbformat": 4,
 "nbformat_minor": 2
}
